{
 "cells": [
  {
   "cell_type": "markdown",
   "metadata": {},
   "source": [
    "# Advanced Jupyter Tips\n",
    "https://towardsdatascience.com/learn-advanced-features-for-pythons-main-data-analysis-library-in-20-minutes-d0eedd90d086"
   ]
  },
  {
   "cell_type": "code",
   "execution_count": 2,
   "metadata": {},
   "outputs": [
    {
     "data": {
      "text/html": [
       "<style>.container {width:90% !important;}</style>"
      ],
      "text/plain": [
       "<IPython.core.display.HTML object>"
      ]
     },
     "metadata": {},
     "output_type": "display_data"
    }
   ],
   "source": [
    "# Make screen wider\n",
    "from IPython.core.display import display, HTML\n",
    "display(HTML(\"<style>.container {width:90% !important;}</style>\"))"
   ]
  },
  {
   "cell_type": "code",
   "execution_count": 3,
   "metadata": {},
   "outputs": [],
   "source": [
    "import pandas as pd"
   ]
  },
  {
   "cell_type": "code",
   "execution_count": 23,
   "metadata": {},
   "outputs": [],
   "source": [
    "invoices = pd.read_csv('https://raw.githubusercontent.com/FBosler/you-datascientist/master/invoices.csv')"
   ]
  },
  {
   "cell_type": "code",
   "execution_count": 20,
   "metadata": {},
   "outputs": [
    {
     "name": "stdout",
     "output_type": "stream",
     "text": [
      "<class 'pandas.core.frame.DataFrame'>\n",
      "RangeIndex: 50017 entries, 0 to 50016\n",
      "Data columns (total 9 columns):\n",
      "Order Id             50017 non-null object\n",
      "Date                 50017 non-null object\n",
      "Meal Id              50017 non-null object\n",
      "Company Id           50017 non-null object\n",
      "Date of Meal         50017 non-null object\n",
      "Participants         50017 non-null object\n",
      "Meal Price           50017 non-null float64\n",
      "Type of Meal         50017 non-null object\n",
      "Heroes Adjustment    50017 non-null bool\n",
      "dtypes: bool(1), float64(1), object(7)\n",
      "memory usage: 3.1+ MB\n"
     ]
    },
    {
     "data": {
      "text/html": [
       "<div>\n",
       "<style scoped>\n",
       "    .dataframe tbody tr th:only-of-type {\n",
       "        vertical-align: middle;\n",
       "    }\n",
       "\n",
       "    .dataframe tbody tr th {\n",
       "        vertical-align: top;\n",
       "    }\n",
       "\n",
       "    .dataframe thead th {\n",
       "        text-align: right;\n",
       "    }\n",
       "</style>\n",
       "<table border=\"1\" class=\"dataframe\">\n",
       "  <thead>\n",
       "    <tr style=\"text-align: right;\">\n",
       "      <th></th>\n",
       "      <th>Order Id</th>\n",
       "      <th>Date</th>\n",
       "      <th>Meal Id</th>\n",
       "      <th>Company Id</th>\n",
       "      <th>Date of Meal</th>\n",
       "      <th>Participants</th>\n",
       "      <th>Meal Price</th>\n",
       "      <th>Type of Meal</th>\n",
       "      <th>Heroes Adjustment</th>\n",
       "    </tr>\n",
       "  </thead>\n",
       "  <tbody>\n",
       "    <tr>\n",
       "      <th>48923</th>\n",
       "      <td>R0M0TC6KH91YLKDC</td>\n",
       "      <td>2018-09-30</td>\n",
       "      <td>NHXO3LCN02ILDTWA</td>\n",
       "      <td>1CGXEJLX3LBDR7YE</td>\n",
       "      <td>2018-09-29 07:00:00+02:00</td>\n",
       "      <td>['Gordon Shin']</td>\n",
       "      <td>737.0</td>\n",
       "      <td>Breakfast</td>\n",
       "      <td>False</td>\n",
       "    </tr>\n",
       "    <tr>\n",
       "      <th>37067</th>\n",
       "      <td>ELIL27C4ZBVF92RE</td>\n",
       "      <td>2014-12-17</td>\n",
       "      <td>T9JRJ6JRJUPN3ZMJ</td>\n",
       "      <td>0MXDIXQCPE6ZRV1F</td>\n",
       "      <td>2014-12-18 08:00:00+01:00</td>\n",
       "      <td>['Jose Clark' 'Debra Litke' 'Tony Ridge' 'Fran...</td>\n",
       "      <td>103.0</td>\n",
       "      <td>Breakfast</td>\n",
       "      <td>True</td>\n",
       "    </tr>\n",
       "    <tr>\n",
       "      <th>34924</th>\n",
       "      <td>7RKIU73SZHUDSISG</td>\n",
       "      <td>2018-09-01</td>\n",
       "      <td>WDFNZU28HQPC5AUK</td>\n",
       "      <td>H2DPBBCVWD7U967V</td>\n",
       "      <td>2018-08-28 14:00:00+02:00</td>\n",
       "      <td>['Patsy Pierce']</td>\n",
       "      <td>107.0</td>\n",
       "      <td>Lunch</td>\n",
       "      <td>False</td>\n",
       "    </tr>\n",
       "    <tr>\n",
       "      <th>38723</th>\n",
       "      <td>C5VNRZC1W3O1K2JW</td>\n",
       "      <td>2014-04-17</td>\n",
       "      <td>SW2OZD3GS43DOLIC</td>\n",
       "      <td>DWX6UI7GHZRJ82IC</td>\n",
       "      <td>2014-04-20 20:00:00+02:00</td>\n",
       "      <td>['James Mccoy']</td>\n",
       "      <td>47.0</td>\n",
       "      <td>Dinner</td>\n",
       "      <td>False</td>\n",
       "    </tr>\n",
       "    <tr>\n",
       "      <th>30992</th>\n",
       "      <td>X22FDPAR40B6HWBN</td>\n",
       "      <td>2016-10-24</td>\n",
       "      <td>X8Q1H2GSWGD3TVZL</td>\n",
       "      <td>3FWM3IGCFHUH4ANE</td>\n",
       "      <td>2016-10-24 22:00:00+02:00</td>\n",
       "      <td>['Madeline Love' 'Zenobia Collis']</td>\n",
       "      <td>468.0</td>\n",
       "      <td>Dinner</td>\n",
       "      <td>False</td>\n",
       "    </tr>\n",
       "  </tbody>\n",
       "</table>\n",
       "</div>"
      ],
      "text/plain": [
       "               Order Id        Date           Meal Id        Company Id  \\\n",
       "48923  R0M0TC6KH91YLKDC  2018-09-30  NHXO3LCN02ILDTWA  1CGXEJLX3LBDR7YE   \n",
       "37067  ELIL27C4ZBVF92RE  2014-12-17  T9JRJ6JRJUPN3ZMJ  0MXDIXQCPE6ZRV1F   \n",
       "34924  7RKIU73SZHUDSISG  2018-09-01  WDFNZU28HQPC5AUK  H2DPBBCVWD7U967V   \n",
       "38723  C5VNRZC1W3O1K2JW  2014-04-17  SW2OZD3GS43DOLIC  DWX6UI7GHZRJ82IC   \n",
       "30992  X22FDPAR40B6HWBN  2016-10-24  X8Q1H2GSWGD3TVZL  3FWM3IGCFHUH4ANE   \n",
       "\n",
       "                    Date of Meal  \\\n",
       "48923  2018-09-29 07:00:00+02:00   \n",
       "37067  2014-12-18 08:00:00+01:00   \n",
       "34924  2018-08-28 14:00:00+02:00   \n",
       "38723  2014-04-20 20:00:00+02:00   \n",
       "30992  2016-10-24 22:00:00+02:00   \n",
       "\n",
       "                                            Participants  Meal Price  \\\n",
       "48923                                    ['Gordon Shin']       737.0   \n",
       "37067  ['Jose Clark' 'Debra Litke' 'Tony Ridge' 'Fran...       103.0   \n",
       "34924                                   ['Patsy Pierce']       107.0   \n",
       "38723                                    ['James Mccoy']        47.0   \n",
       "30992                 ['Madeline Love' 'Zenobia Collis']       468.0   \n",
       "\n",
       "      Type of Meal  Heroes Adjustment  \n",
       "48923    Breakfast              False  \n",
       "37067    Breakfast               True  \n",
       "34924        Lunch              False  \n",
       "38723       Dinner              False  \n",
       "30992       Dinner              False  "
      ]
     },
     "execution_count": 20,
     "metadata": {},
     "output_type": "execute_result"
    }
   ],
   "source": [
    "invoices.info()\n",
    "invoices.describe()\n",
    "invoices.sample(5)\n"
   ]
  },
  {
   "cell_type": "code",
   "execution_count": 17,
   "metadata": {},
   "outputs": [
    {
     "data": {
      "text/plain": [
       "(50017, 9)"
      ]
     },
     "execution_count": 17,
     "metadata": {},
     "output_type": "execute_result"
    }
   ],
   "source": [
    "invoices.shape"
   ]
  },
  {
   "cell_type": "code",
   "execution_count": 18,
   "metadata": {},
   "outputs": [
    {
     "data": {
      "text/plain": [
       "Order Id              object\n",
       "Date                  object\n",
       "Meal Id               object\n",
       "Company Id            object\n",
       "Date of Meal          object\n",
       "Participants          object\n",
       "Meal Price           float64\n",
       "Type of Meal          object\n",
       "Heroes Adjustment       bool\n",
       "dtype: object"
      ]
     },
     "execution_count": 18,
     "metadata": {},
     "output_type": "execute_result"
    }
   ],
   "source": [
    "invoices.dtypes"
   ]
  },
  {
   "cell_type": "markdown",
   "metadata": {},
   "source": [
    "## 1. Converting Data Types\n",
    "Let's make some the data types more explicit as Jupyter did its best but it could be better.\n",
    "Two ways, astype() or pd.to_numeric/pd.to_datetime"
   ]
  },
  {
   "cell_type": "code",
   "execution_count": 24,
   "metadata": {},
   "outputs": [],
   "source": [
    "invoices['Type of Meal'] = invoices['Type of Meal'].astype('category')\n",
    "invoices['Date'] = invoices['Date'].astype('datetime64')\n",
    "invoices['Meal Price'] = invoices['Meal Price'].astype('int64')"
   ]
  },
  {
   "cell_type": "code",
   "execution_count": 26,
   "metadata": {},
   "outputs": [
    {
     "data": {
      "text/plain": [
       "Order Id                     object\n",
       "Date                 datetime64[ns]\n",
       "Meal Id                      object\n",
       "Company Id                   object\n",
       "Date of Meal                 object\n",
       "Participants                 object\n",
       "Meal Price                    int64\n",
       "Type of Meal               category\n",
       "Heroes Adjustment              bool\n",
       "dtype: object"
      ]
     },
     "execution_count": 26,
     "metadata": {},
     "output_type": "execute_result"
    }
   ],
   "source": [
    "invoices.dtypes"
   ]
  },
  {
   "cell_type": "code",
   "execution_count": 27,
   "metadata": {},
   "outputs": [],
   "source": [
    "# For the sake of causing a bit of trouble in the data set. Changing these to strings will mean we cant convert to integers.\n",
    "invoices.loc[45612,'Meal Price'] = 'I am causing trouble'\n",
    "invoices.loc[35612,'Meal Price'] = 'Me too'"
   ]
  },
  {
   "cell_type": "code",
   "execution_count": 34,
   "metadata": {},
   "outputs": [
    {
     "data": {
      "text/plain": [
       "<class 'int'>    50015\n",
       "<class 'str'>        2\n",
       "Name: Meal Price, dtype: int64"
      ]
     },
     "execution_count": 34,
     "metadata": {},
     "output_type": "execute_result"
    }
   ],
   "source": [
    "# \"Whenever I encounter unexpected conversion errors, I typically check the values of the column explicitly to get a better understanding of the magnitude of the strange values.\"\n",
    "invoices['Meal Price'].apply(lambda x: type(x)).value_counts()"
   ]
  },
  {
   "cell_type": "code",
   "execution_count": 35,
   "metadata": {},
   "outputs": [
    {
     "data": {
      "text/plain": [
       "35612                  Me too\n",
       "45612    I am causing trouble\n",
       "Name: Meal Price, dtype: object"
      ]
     },
     "execution_count": 35,
     "metadata": {},
     "output_type": "execute_result"
    }
   ],
   "source": [
    "#You could then identify the offending rows by doing this:\n",
    "invoices['Meal Price'][invoices['Meal Price'].apply(\n",
    "  lambda x: isinstance(x,str)\n",
    ")]"
   ]
  },
  {
   "cell_type": "code",
   "execution_count": 25,
   "metadata": {},
   "outputs": [
    {
     "data": {
      "text/plain": [
       "<class 'int'>    50017\n",
       "Name: Meal Price, dtype: int64"
      ]
     },
     "execution_count": 25,
     "metadata": {},
     "output_type": "execute_result"
    }
   ],
   "source": [
    "# Lets make those two troublesome strings Nan. errors='coerce' will convert them to Nan\n",
    "# convert the offending values into np.nan\n",
    "invoices['Meal Price'] = pd.to_numeric(invoices['Meal Price'],errors='coerce')\n",
    "# fill np.nan with the median of the data\n",
    "invoices['Meal Price'] = invoices['Meal Price'].fillna(invoices['Meal Price'].median())\n",
    "#convert column to an integer\n",
    "invoices['Meal Price'] = invoices['Meal Price'].astype('int64') #'int' will return int34 by default.\n",
    "\n",
    "invoices['Meal Price'].apply(lambda x: type(x)).value_counts()"
   ]
  },
  {
   "cell_type": "code",
   "execution_count": 26,
   "metadata": {},
   "outputs": [
    {
     "data": {
      "text/plain": [
       "Order Id                          object\n",
       "Date                      datetime64[ns]\n",
       "Meal Id                           object\n",
       "Company Id                        object\n",
       "Date of Meal         datetime64[ns, UTC]\n",
       "Participants                      object\n",
       "Meal Price                         int64\n",
       "Type of Meal                    category\n",
       "Heroes Adjustment                   bool\n",
       "dtype: object"
      ]
     },
     "execution_count": 26,
     "metadata": {},
     "output_type": "execute_result"
    }
   ],
   "source": [
    "# Lets convert the data of meal using pd.to_datetime\n",
    "invoices['Date of Meal'] = pd.to_datetime(invoices['Date of Meal'], utc=True)\n",
    "invoices.dtypes"
   ]
  },
  {
   "cell_type": "markdown",
   "metadata": {},
   "source": [
    "## 2. Useful accessor methods for certain data types\n",
    "Three different accessors, dt, str and cat"
   ]
  },
  {
   "cell_type": "code",
   "execution_count": 45,
   "metadata": {},
   "outputs": [
    {
     "name": "stdout",
     "output_type": "stream",
     "text": [
      "test\n"
     ]
    }
   ],
   "source": [
    "#dt\n",
    "invoices['Date of Meal'].dt.date\n",
    "invoices['Date of Meal'].dt.weekday_name\n",
    "invoices['Date of Meal'].dt.month_name\n",
    "invoices['Date of Meal'].dt.day #etc etc\n",
    "# dt.week, month, quarter, year, is_leap_year, to_py_datetime() to name some.\n",
    "pass"
   ]
  },
  {
   "cell_type": "code",
   "execution_count": 47,
   "metadata": {},
   "outputs": [
    {
     "name": "stdout",
     "output_type": "stream",
     "text": [
      "test\n"
     ]
    }
   ],
   "source": [
    "#str\n",
    "invoices['Type of Meal'].str.lower() #lower case\n",
    "invoices['Type of Meal'].str.upper()\n",
    "#str.ljust(width=X), rjust(width=X), center(width=X), zfill(width=X) where X is the desired value.\n",
    "invoices['Type of Meal'].str.endswith('ast')\n",
    "#str.startswith(), contains(), swapcase(), repeat(times)\n",
    "invoices['Price'].str.replace('[\\$\\,\\.]', '')\n",
    "pass"
   ]
  },
  {
   "cell_type": "code",
   "execution_count": 51,
   "metadata": {},
   "outputs": [],
   "source": [
    "#cat, categorical opertations\n",
    "invoices['Type of Meal'].cat.ordered # returns false as column is not ordered\n",
    "invoices['Type of Meal'].cat.categories # returns a list of categories.\n",
    "invoices['Type of Meal'].cat.codes # returns numerical value of categories.\n",
    "invoices['Type of Meal'].cat.reorder_categories(['Lunch', 'Breakfast', 'Dinner'])\n",
    "pass"
   ]
  },
  {
   "cell_type": "markdown",
   "metadata": {},
   "source": [
    "## Combining Dataframes\n",
    "Concatenating vertically and horizontally, and merge()"
   ]
  },
  {
   "cell_type": "code",
   "execution_count": 59,
   "metadata": {},
   "outputs": [
    {
     "data": {
      "text/plain": [
       "2013       34\n",
       "2014    10051\n",
       "2015    10036\n",
       "2016     9862\n",
       "2017     9921\n",
       "2018    10095\n",
       "2019       18\n",
       "Name: Date of Meal, dtype: int64"
      ]
     },
     "execution_count": 59,
     "metadata": {},
     "output_type": "execute_result"
    }
   ],
   "source": [
    "invoices['Date of Meal'].dt.year.value_counts().sort_index()"
   ]
  },
  {
   "cell_type": "code",
   "execution_count": 76,
   "metadata": {},
   "outputs": [],
   "source": [
    "# Split the data . We use copy() to make sure that the dataframe is a copy and not just a reference to the dataframe.\n",
    "y_2013 = invoices[invoices['Date of Meal'].dt.year == 2013].copy()\n",
    "y_2014 = invoices[invoices['Date of Meal'].dt.year == 2014].copy()\n",
    "y_2015 = invoices[invoices['Date of Meal'].dt.year == 2015].copy()\n",
    "y_2016 = invoices[invoices['Date of Meal'].dt.year == 2016].copy()\n",
    "y_2017 = invoices[invoices['Date of Meal'].dt.year == 2017].copy()\n",
    "y_2018 = invoices[invoices['Date of Meal'].dt.year == 2018].copy()\n",
    "y_2019 = invoices[invoices['Date of Meal'].dt.year == 2019].copy()\n"
   ]
  },
  {
   "cell_type": "markdown",
   "metadata": {},
   "source": [
    "### Vertical concatenating / stacking"
   ]
  },
  {
   "cell_type": "code",
   "execution_count": 93,
   "metadata": {},
   "outputs": [],
   "source": [
    "# keys adds an index for the individual dataframes that have been concatenated.\n",
    "# names adds labels to the key index and the index from the individual concatenated dataframes.\n",
    "invoices1 = pd.concat(\n",
    "    [y_2013, y_2014, y_2015, y_2016, y_2017, y_2018, y_2019],\n",
    "    keys=[13, 14, 15, 16, 17, 18, 19],\n",
    "    names=['Year', 'Original_Index'])\n",
    "pass"
   ]
  },
  {
   "cell_type": "markdown",
   "metadata": {},
   "source": [
    "### Horizontal concatenating / stacking"
   ]
  },
  {
   "cell_type": "code",
   "execution_count": 103,
   "metadata": {},
   "outputs": [
    {
     "data": {
      "text/html": [
       "<div>\n",
       "<style scoped>\n",
       "    .dataframe tbody tr th:only-of-type {\n",
       "        vertical-align: middle;\n",
       "    }\n",
       "\n",
       "    .dataframe tbody tr th {\n",
       "        vertical-align: top;\n",
       "    }\n",
       "\n",
       "    .dataframe thead th {\n",
       "        text-align: right;\n",
       "    }\n",
       "</style>\n",
       "<table border=\"1\" class=\"dataframe\">\n",
       "  <thead>\n",
       "    <tr style=\"text-align: right;\">\n",
       "      <th></th>\n",
       "      <th>observations_A</th>\n",
       "      <th>observations_B</th>\n",
       "    </tr>\n",
       "  </thead>\n",
       "  <tbody>\n",
       "    <tr>\n",
       "      <th>2019-01-02</th>\n",
       "      <td>56.0</td>\n",
       "      <td>NaN</td>\n",
       "    </tr>\n",
       "    <tr>\n",
       "      <th>2019-01-03</th>\n",
       "      <td>24.0</td>\n",
       "      <td>NaN</td>\n",
       "    </tr>\n",
       "    <tr>\n",
       "      <th>2019-01-04</th>\n",
       "      <td>11.0</td>\n",
       "      <td>NaN</td>\n",
       "    </tr>\n",
       "    <tr>\n",
       "      <th>2019-01-05</th>\n",
       "      <td>7.0</td>\n",
       "      <td>96.0</td>\n",
       "    </tr>\n",
       "    <tr>\n",
       "      <th>2019-01-06</th>\n",
       "      <td>78.0</td>\n",
       "      <td>36.0</td>\n",
       "    </tr>\n",
       "    <tr>\n",
       "      <th>2019-01-07</th>\n",
       "      <td>64.0</td>\n",
       "      <td>85.0</td>\n",
       "    </tr>\n",
       "    <tr>\n",
       "      <th>2019-01-08</th>\n",
       "      <td>69.0</td>\n",
       "      <td>23.0</td>\n",
       "    </tr>\n",
       "    <tr>\n",
       "      <th>2019-01-09</th>\n",
       "      <td>NaN</td>\n",
       "      <td>2.0</td>\n",
       "    </tr>\n",
       "    <tr>\n",
       "      <th>2019-01-10</th>\n",
       "      <td>NaN</td>\n",
       "      <td>82.0</td>\n",
       "    </tr>\n",
       "    <tr>\n",
       "      <th>2019-01-11</th>\n",
       "      <td>NaN</td>\n",
       "      <td>85.0</td>\n",
       "    </tr>\n",
       "    <tr>\n",
       "      <th>2019-01-12</th>\n",
       "      <td>NaN</td>\n",
       "      <td>44.0</td>\n",
       "    </tr>\n",
       "  </tbody>\n",
       "</table>\n",
       "</div>"
      ],
      "text/plain": [
       "            observations_A  observations_B\n",
       "2019-01-02            56.0             NaN\n",
       "2019-01-03            24.0             NaN\n",
       "2019-01-04            11.0             NaN\n",
       "2019-01-05             7.0            96.0\n",
       "2019-01-06            78.0            36.0\n",
       "2019-01-07            64.0            85.0\n",
       "2019-01-08            69.0            23.0\n",
       "2019-01-09             NaN             2.0\n",
       "2019-01-10             NaN            82.0\n",
       "2019-01-11             NaN            85.0\n",
       "2019-01-12             NaN            44.0"
      ]
     },
     "execution_count": 103,
     "metadata": {},
     "output_type": "execute_result"
    }
   ],
   "source": [
    "import datetime\n",
    "import numpy as np\n",
    "\n",
    "range_a = pd.date_range(\n",
    "    '20190102',\n",
    "    '20190108'\n",
    ")\n",
    "df_a = pd.DataFrame(\n",
    "    index=range_a, \n",
    "    data=np.random.randint(2,100,size=len(range_a)),\n",
    "    columns=['observations_A']\n",
    ")\n",
    "range_b = pd.date_range(\n",
    "    datetime.datetime(2019,1,5),\n",
    "    datetime.datetime(2019,1,12) # I removed datetime.datetime above simply to achieve the same result another way.\n",
    ")\n",
    "df_b = pd.DataFrame(\n",
    "    index=range_b, \n",
    "    data=np.random.randint(2,100,size=len(range_b)),\n",
    "    columns=['observations_B']\n",
    ")\n",
    "pd.concat([df_a,df_b],axis=1)"
   ]
  },
  {
   "cell_type": "code",
   "execution_count": 10,
   "metadata": {},
   "outputs": [],
   "source": [
    "# Making my own DataFrame for giggles.\n",
    "import numpy as np\n",
    "import pandas as pd\n",
    "\n",
    "range3 = range(1, 50)\n",
    "\n",
    "df3 = pd.DataFrame(index=range3, \n",
    "                   data=np.random.randint(4000, 10000, \n",
    "                                          size=len(range3)),\n",
    "                   columns=['observations'])\n",
    "pass"
   ]
  },
  {
   "cell_type": "markdown",
   "metadata": {},
   "source": [
    "### Merge()"
   ]
  },
  {
   "cell_type": "code",
   "execution_count": 18,
   "metadata": {},
   "outputs": [],
   "source": [
    "# Load some additional Data\n",
    "# Note the parse_dates? We need this to have consistent types with invoices, otherwise the subsequent merges would throw errors\n",
    "order_data = pd.read_csv('https://raw.githubusercontent.com/FBosler/you-datascientist/master/order_leads.csv', parse_dates=[3])"
   ]
  },
  {
   "cell_type": "code",
   "execution_count": 12,
   "metadata": {},
   "outputs": [],
   "source": [
    "sales_team = pd.read_csv('https://raw.githubusercontent.com/FBosler/you-datascientist/master/sales_team.csv')"
   ]
  },
  {
   "cell_type": "code",
   "execution_count": 35,
   "metadata": {},
   "outputs": [
    {
     "data": {
      "text/plain": [
       "(100000, 6)"
      ]
     },
     "execution_count": 35,
     "metadata": {},
     "output_type": "execute_result"
    }
   ],
   "source": [
    "order_data.head()\n",
    "order_data.shape\n"
   ]
  },
  {
   "cell_type": "code",
   "execution_count": 21,
   "metadata": {},
   "outputs": [
    {
     "data": {
      "text/html": [
       "<div>\n",
       "<style scoped>\n",
       "    .dataframe tbody tr th:only-of-type {\n",
       "        vertical-align: middle;\n",
       "    }\n",
       "\n",
       "    .dataframe tbody tr th {\n",
       "        vertical-align: top;\n",
       "    }\n",
       "\n",
       "    .dataframe thead th {\n",
       "        text-align: right;\n",
       "    }\n",
       "</style>\n",
       "<table border=\"1\" class=\"dataframe\">\n",
       "  <thead>\n",
       "    <tr style=\"text-align: right;\">\n",
       "      <th></th>\n",
       "      <th>Sales Rep</th>\n",
       "      <th>Sales Rep Id</th>\n",
       "      <th>Company Name</th>\n",
       "      <th>Company Id</th>\n",
       "    </tr>\n",
       "  </thead>\n",
       "  <tbody>\n",
       "    <tr>\n",
       "      <th>0</th>\n",
       "      <td>Jessie Mcallister</td>\n",
       "      <td>97UNNAT790E0WM4N</td>\n",
       "      <td>Chimera-Chasing Casbah</td>\n",
       "      <td>LJKS5NK6788CYMUU</td>\n",
       "    </tr>\n",
       "    <tr>\n",
       "      <th>1</th>\n",
       "      <td>Jessie Mcallister</td>\n",
       "      <td>97UNNAT790E0WM4N</td>\n",
       "      <td>Tangential Sheds</td>\n",
       "      <td>36MFTZOYMTAJP1RK</td>\n",
       "    </tr>\n",
       "    <tr>\n",
       "      <th>2</th>\n",
       "      <td>Jessie Mcallister</td>\n",
       "      <td>97UNNAT790E0WM4N</td>\n",
       "      <td>Two-Mile Grab</td>\n",
       "      <td>H3JRC7XX7WJAD4ZO</td>\n",
       "    </tr>\n",
       "    <tr>\n",
       "      <th>3</th>\n",
       "      <td>Jessie Mcallister</td>\n",
       "      <td>97UNNAT790E0WM4N</td>\n",
       "      <td>Three-Men-And-A-Helper Congo'S</td>\n",
       "      <td>HB25MDZR0MGCQUGX</td>\n",
       "    </tr>\n",
       "    <tr>\n",
       "      <th>4</th>\n",
       "      <td>Jessie Mcallister</td>\n",
       "      <td>97UNNAT790E0WM4N</td>\n",
       "      <td>Biophysical Battleground</td>\n",
       "      <td>7RVA8TIVBLBXMNO4</td>\n",
       "    </tr>\n",
       "  </tbody>\n",
       "</table>\n",
       "</div>"
      ],
      "text/plain": [
       "           Sales Rep      Sales Rep Id                    Company Name  \\\n",
       "0  Jessie Mcallister  97UNNAT790E0WM4N          Chimera-Chasing Casbah   \n",
       "1  Jessie Mcallister  97UNNAT790E0WM4N                Tangential Sheds   \n",
       "2  Jessie Mcallister  97UNNAT790E0WM4N                   Two-Mile Grab   \n",
       "3  Jessie Mcallister  97UNNAT790E0WM4N  Three-Men-And-A-Helper Congo'S   \n",
       "4  Jessie Mcallister  97UNNAT790E0WM4N        Biophysical Battleground   \n",
       "\n",
       "         Company Id  \n",
       "0  LJKS5NK6788CYMUU  \n",
       "1  36MFTZOYMTAJP1RK  \n",
       "2  H3JRC7XX7WJAD4ZO  \n",
       "3  HB25MDZR0MGCQUGX  \n",
       "4  7RVA8TIVBLBXMNO4  "
      ]
     },
     "execution_count": 21,
     "metadata": {},
     "output_type": "execute_result"
    }
   ],
   "source": [
    "sales_team.head()\n",
    "#sales_team.dtypes"
   ]
  },
  {
   "cell_type": "code",
   "execution_count": 28,
   "metadata": {},
   "outputs": [
    {
     "data": {
      "text/html": [
       "<div>\n",
       "<style scoped>\n",
       "    .dataframe tbody tr th:only-of-type {\n",
       "        vertical-align: middle;\n",
       "    }\n",
       "\n",
       "    .dataframe tbody tr th {\n",
       "        vertical-align: top;\n",
       "    }\n",
       "\n",
       "    .dataframe thead th {\n",
       "        text-align: right;\n",
       "    }\n",
       "</style>\n",
       "<table border=\"1\" class=\"dataframe\">\n",
       "  <thead>\n",
       "    <tr style=\"text-align: right;\">\n",
       "      <th></th>\n",
       "      <th>Order Id</th>\n",
       "      <th>Date</th>\n",
       "      <th>Meal Id</th>\n",
       "      <th>Company Id</th>\n",
       "      <th>Date of Meal</th>\n",
       "      <th>Participants</th>\n",
       "      <th>Meal Price</th>\n",
       "      <th>Type of Meal</th>\n",
       "      <th>Heroes Adjustment</th>\n",
       "    </tr>\n",
       "  </thead>\n",
       "  <tbody>\n",
       "    <tr>\n",
       "      <th>0</th>\n",
       "      <td>839FKFW2LLX4LMBB</td>\n",
       "      <td>2016-05-27</td>\n",
       "      <td>INBUX904GIHI8YBD</td>\n",
       "      <td>LJKS5NK6788CYMUU</td>\n",
       "      <td>2016-05-31 05:00:00+00:00</td>\n",
       "      <td>['David Bishop']</td>\n",
       "      <td>469</td>\n",
       "      <td>Breakfast</td>\n",
       "      <td>False</td>\n",
       "    </tr>\n",
       "    <tr>\n",
       "      <th>1</th>\n",
       "      <td>97OX39BGVMHODLJM</td>\n",
       "      <td>2018-09-27</td>\n",
       "      <td>J0MMOOPP709DIDIE</td>\n",
       "      <td>LJKS5NK6788CYMUU</td>\n",
       "      <td>2018-10-01 18:00:00+00:00</td>\n",
       "      <td>['David Bishop']</td>\n",
       "      <td>22</td>\n",
       "      <td>Dinner</td>\n",
       "      <td>False</td>\n",
       "    </tr>\n",
       "  </tbody>\n",
       "</table>\n",
       "</div>"
      ],
      "text/plain": [
       "           Order Id       Date           Meal Id        Company Id  \\\n",
       "0  839FKFW2LLX4LMBB 2016-05-27  INBUX904GIHI8YBD  LJKS5NK6788CYMUU   \n",
       "1  97OX39BGVMHODLJM 2018-09-27  J0MMOOPP709DIDIE  LJKS5NK6788CYMUU   \n",
       "\n",
       "               Date of Meal      Participants  Meal Price Type of Meal  \\\n",
       "0 2016-05-31 05:00:00+00:00  ['David Bishop']         469    Breakfast   \n",
       "1 2018-10-01 18:00:00+00:00  ['David Bishop']          22       Dinner   \n",
       "\n",
       "   Heroes Adjustment  \n",
       "0              False  \n",
       "1              False  "
      ]
     },
     "execution_count": 28,
     "metadata": {},
     "output_type": "execute_result"
    }
   ],
   "source": [
    "invoices.head(2)"
   ]
  },
  {
   "cell_type": "code",
   "execution_count": 36,
   "metadata": {},
   "outputs": [],
   "source": [
    "pd.merge(order_data, invoices) # defaults to only rows with data in common columns.\n",
    "pd.merge(order_data, invoices, how='left') # uses left df rows and attaches data that exists from merged df\n",
    "pd.merge(order_data, invoices, how='right') # vice versa\n",
    "pd.merge(order_data, invoices, how='outer') \n",
    "pass\n"
   ]
  },
  {
   "cell_type": "code",
   "execution_count": 42,
   "metadata": {},
   "outputs": [],
   "source": [
    "# if merging on a explicit column then other common columns will be suffixed. default suffixes are x and y.\n",
    "pd.merge(order_data, invoices, on=['Order Id'], suffixes=('_base', '_join'))\n",
    "pass"
   ]
  },
  {
   "cell_type": "code",
   "execution_count": 44,
   "metadata": {},
   "outputs": [],
   "source": [
    "#You would typically use the left_on and right_on parameters when the columns are named differently in the two DataFrames.\n",
    "pd.merge(order_data, invoices.rename(columns={'Order Id':'New Id'}), left_on=['Order Id'], right_on=['New Id'])\n",
    "pass"
   ]
  },
  {
   "cell_type": "markdown",
   "metadata": {},
   "source": [
    "Note that map() can also me used to merge. Example in link at top of page.\n",
    "\n",
    "Summary of combining DataFrames:\n",
    "1. Use pd.concat to “stack” multiple DataFrame on top or next to each other. By default, the stacking is vertical. To overwrite the default use axis=1. By default, stack will carry over all columns/indices. To limit to common columns/indices use join='inner'.\n",
    "2. Do not use pd.DataFrame.append as it is only a special, limited case of pd.concat and will only make your code less standardized and less coherent. Instead, use pd.concat.\n",
    "3. Use pd.merge to combine information from two DataFrames. Merge defaults to an inner join and will infer the columns to merge on from the largest subset of common columns across the DataFrames.\n",
    "4. Do not use pd.DataFrame.join as it is only a special, limited case of pd.merge and will only make your code less standardized and less coherent. Instead, use pd.merge.\n",
    "5. Use pd.Series.map as a lookup-esque kind of functionality to get the value for a specific index/key from a series/dictionary."
   ]
  },
  {
   "cell_type": "markdown",
   "metadata": {},
   "source": [
    "## Reshaping Dataframes: transpose, melt, pivot, stack, unstack, groupby"
   ]
  },
  {
   "cell_type": "code",
   "execution_count": 46,
   "metadata": {},
   "outputs": [],
   "source": [
    "invoices.head(5).T # transform (rotate around axis, just like excel)\n",
    "pass"
   ]
  },
  {
   "cell_type": "code",
   "execution_count": 48,
   "metadata": {},
   "outputs": [
    {
     "data": {
      "text/html": [
       "<div>\n",
       "<style scoped>\n",
       "    .dataframe tbody tr th:only-of-type {\n",
       "        vertical-align: middle;\n",
       "    }\n",
       "\n",
       "    .dataframe tbody tr th {\n",
       "        vertical-align: top;\n",
       "    }\n",
       "\n",
       "    .dataframe thead th {\n",
       "        text-align: right;\n",
       "    }\n",
       "</style>\n",
       "<table border=\"1\" class=\"dataframe\">\n",
       "  <thead>\n",
       "    <tr style=\"text-align: right;\">\n",
       "      <th></th>\n",
       "      <th>Order Id</th>\n",
       "      <th>Date</th>\n",
       "      <th>Meal Id</th>\n",
       "      <th>Company Id</th>\n",
       "      <th>Date of Meal</th>\n",
       "      <th>Participants</th>\n",
       "      <th>Heroes Adjustment</th>\n",
       "      <th>Breakfast</th>\n",
       "      <th>Dinner</th>\n",
       "      <th>Lunch</th>\n",
       "    </tr>\n",
       "  </thead>\n",
       "  <tbody>\n",
       "    <tr>\n",
       "      <th>0</th>\n",
       "      <td>839FKFW2LLX4LMBB</td>\n",
       "      <td>2016-05-27</td>\n",
       "      <td>INBUX904GIHI8YBD</td>\n",
       "      <td>LJKS5NK6788CYMUU</td>\n",
       "      <td>2016-05-31 05:00:00+00:00</td>\n",
       "      <td>['David Bishop']</td>\n",
       "      <td>False</td>\n",
       "      <td>469</td>\n",
       "      <td>0</td>\n",
       "      <td>0</td>\n",
       "    </tr>\n",
       "    <tr>\n",
       "      <th>1</th>\n",
       "      <td>97OX39BGVMHODLJM</td>\n",
       "      <td>2018-09-27</td>\n",
       "      <td>J0MMOOPP709DIDIE</td>\n",
       "      <td>LJKS5NK6788CYMUU</td>\n",
       "      <td>2018-10-01 18:00:00+00:00</td>\n",
       "      <td>['David Bishop']</td>\n",
       "      <td>False</td>\n",
       "      <td>0</td>\n",
       "      <td>22</td>\n",
       "      <td>0</td>\n",
       "    </tr>\n",
       "  </tbody>\n",
       "</table>\n",
       "</div>"
      ],
      "text/plain": [
       "           Order Id       Date           Meal Id        Company Id  \\\n",
       "0  839FKFW2LLX4LMBB 2016-05-27  INBUX904GIHI8YBD  LJKS5NK6788CYMUU   \n",
       "1  97OX39BGVMHODLJM 2018-09-27  J0MMOOPP709DIDIE  LJKS5NK6788CYMUU   \n",
       "\n",
       "               Date of Meal      Participants  Heroes Adjustment  Breakfast  \\\n",
       "0 2016-05-31 05:00:00+00:00  ['David Bishop']              False        469   \n",
       "1 2018-10-01 18:00:00+00:00  ['David Bishop']              False          0   \n",
       "\n",
       "   Dinner  Lunch  \n",
       "0       0      0  \n",
       "1      22      0  "
      ]
     },
     "execution_count": 48,
     "metadata": {},
     "output_type": "execute_result"
    }
   ],
   "source": [
    "melt_experiment = pd.merge(\n",
    "    invoices,\n",
    "    pd.get_dummies(invoices['Type of Meal']).mul(invoices['Meal Price'].values,axis=0),\n",
    "    left_index=True,\n",
    "    right_index=True\n",
    ")\n",
    "del melt_experiment['Type of Meal']\n",
    "del melt_experiment['Meal Price']\n",
    "melt_experiment.head(2)"
   ]
  },
  {
   "cell_type": "code",
   "execution_count": 78,
   "metadata": {},
   "outputs": [],
   "source": [
    "# groupby()\n",
    "invoices.groupby(['Company Id', 'Type of Meal']).agg({'Meal Price':np.mean})\n",
    "pass"
   ]
  },
  {
   "cell_type": "code",
   "execution_count": 80,
   "metadata": {},
   "outputs": [],
   "source": [
    "# pivot()\n",
    "pd.pivot_table(\n",
    "    invoices,\n",
    "    index=['Company Id','Type of Meal'],\n",
    "    values='Meal Price',\n",
    "    aggfunc=np.mean,\n",
    "    margins=True\n",
    ")\n",
    "pass"
   ]
  },
  {
   "cell_type": "code",
   "execution_count": null,
   "metadata": {},
   "outputs": [],
   "source": [
    "#stack and unstack come in really handy when rearranging your columns and indices. \n",
    "foo.stack()\n",
    "foo.unstack()\n",
    "# refer to article link at top for examples"
   ]
  }
 ],
 "metadata": {
  "kernelspec": {
   "display_name": "Python 3",
   "language": "python",
   "name": "python3"
  },
  "language_info": {
   "codemirror_mode": {
    "name": "ipython",
    "version": 3
   },
   "file_extension": ".py",
   "mimetype": "text/x-python",
   "name": "python",
   "nbconvert_exporter": "python",
   "pygments_lexer": "ipython3",
   "version": "3.6.11"
  }
 },
 "nbformat": 4,
 "nbformat_minor": 4
}
